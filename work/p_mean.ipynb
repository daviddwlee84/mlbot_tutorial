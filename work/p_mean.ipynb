{
 "cells": [
  {
   "cell_type": "markdown",
   "id": "afc716db-3fa3-48de-8192-08e4914beb35",
   "metadata": {},
   "source": [
    "# p-平均法（撰寫中）\n",
    "\n",
    "本文介紹作者提出的 p-平均法。\n",
    "\n",
    "針對交易表現的檢定，常見作法是使用 t 檢定；\n",
    "或採用《ファイナンス機械学習》提出的 PSR（Probabilistic Sharpe Ratio）、DSR（Deflated Sharpe Ratio）等。\n",
    "\n",
    "這些方法的問題在於對「報酬的長期變化」較不敏感。\n",
    "例如三年前顯著獲利，但近一年為負，未來是否能獲利就很可疑；\n",
    "然而若使用上述方法，可能仍被判定為「穩定可獲利」，\n",
    "原因在於它們未考慮樣本的時間順序（順序資訊未被利用）。\n",
    "\n",
    "為緩解此問題，提出 p-平均法，做法如下（p 值平均越低越好）：\n",
    "\n",
    "1. 將報酬時間序列切成 N 段\n",
    "2. 在各段內進行 t 檢定以取得 p 值\n",
    "3. 取 N 個 p 值的平均\n",
    "4. 以 p 值平均作為判定準則\n",
    "\n",
    "直覺上，若存在任何一段 p 值很大，平均後的 p 值也會偏大，\n",
    "因此只有在「所有期間」皆表現穩定時才會被判定為顯著，\n",
    "有助於避免只依賴舊期間的高報酬而忽視近期惡化。\n",
    "\n",
    "實作上，`calc_p_mean` 負責計算 p-平均法；\n",
    "型一錯誤率（Type I error rate）可用 `calc_p_mean_type1_error_rate` 計算。\n",
    "\n",
    "### 為什麼 p-平均法能緩解問題\n",
    "\n",
    "當報酬具長期變化時，直接套用 t 檢定並不合適，\n",
    "因為 t 檢定假設樣本為「同一分布且獨立同分布」。\n",
    "雖然 p-平均法最終仍使用 t 檢定，但由於是在較短的子期間中進行，\n",
    "更容易滿足「同一分布」的假設，能部分緩解不適配的問題。\n",
    "\n",
    "### 關於分布移轉（Distribution Shift）\n",
    "\n",
    "p-平均法以期間分段檢定，可跨不同市場階段（牛市、熊市、極端事件等）進行。\n",
    "\n",
    "例如：若訓練資料未包含類似「雷曼兄弟」的事件，實務上遇到該情境便可能虧損。\n",
    "可設計壓力情境（Stress Scenario）並以子期間評估，以降低此風險。\n",
    "\n",
    "### 改進要點\n",
    "\n",
    "#### 含浮動虧損的強制歸零（Zero-cut）\n",
    "\n",
    "為求簡潔，本文未將「含浮虧的歸零處理」納入；\n",
    "可改寫回測程式支援此機制，亦可用於推估適當的槓桿大小。\n"
   ]
  },
  {
   "cell_type": "code",
   "execution_count": null,
   "id": "79e416f9-900c-425f-9395-19fbf0e72f7e",
   "metadata": {},
   "outputs": [],
   "source": []
  }
 ],
 "metadata": {
  "kernelspec": {
   "display_name": "Python 3 (ipykernel)",
   "language": "python",
   "name": "python3"
  },
  "language_info": {
   "codemirror_mode": {
    "name": "ipython",
    "version": 3
   },
   "file_extension": ".py",
   "mimetype": "text/x-python",
   "name": "python",
   "nbconvert_exporter": "python",
   "pygments_lexer": "ipython3",
   "version": "3.9.5"
  }
 },
 "nbformat": 4,
 "nbformat_minor": 5
}
